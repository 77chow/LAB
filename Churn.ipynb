{
  "nbformat": 4,
  "nbformat_minor": 0,
  "metadata": {
    "colab": {
      "provenance": [],
      "authorship_tag": "ABX9TyPO8NNYJu5Gm7zZS9L+NbZS",
      "include_colab_link": true
    },
    "kernelspec": {
      "name": "python3",
      "display_name": "Python 3"
    },
    "language_info": {
      "name": "python"
    }
  },
  "cells": [
    {
      "cell_type": "markdown",
      "metadata": {
        "id": "view-in-github",
        "colab_type": "text"
      },
      "source": [
        "<a href=\"https://colab.research.google.com/github/77chow/LAB/blob/main/Churn.ipynb\" target=\"_parent\"><img src=\"https://colab.research.google.com/assets/colab-badge.svg\" alt=\"Open In Colab\"/></a>"
      ]
    },
    {
      "cell_type": "code",
      "execution_count": null,
      "metadata": {
        "id": "yPi71743S9Ik"
      },
      "outputs": [],
      "source": [
        "# Mount the working directory.\n",
        "from google.colab import drive\n",
        "drive.mount('/content/drive')"
      ]
    },
    {
      "cell_type": "markdown",
      "source": [
        "**Data Preparation**"
      ],
      "metadata": {
        "id": "ulZ1VRrcvZQ4"
      }
    },
    {
      "cell_type": "code",
      "source": [
        "# Loading libraries #\n",
        "\n",
        "# Data processing #\n",
        "import pandas as pd # Data processing - CSV file I/O.\n",
        "import os, shutil, random, glob\n",
        "import numpy as np # Linear algebra\n",
        "\n",
        "# Data analysis & visualization #\n",
        "import seaborn as sns\n",
        "import matplotlib.pyplot as plt # Show image\n",
        "import matplotlib.cm as cm\n",
        "from tensorflow.keras.utils import plot_model\n",
        "\n",
        "# Data split #\n",
        "from sklearn.model_selection import train_test_split\n",
        "\n",
        "# Data modeling & evaluation #\n",
        "from tensorflow.keras.utils import to_categorical\n",
        "import tensorflow as tf\n",
        "from tensorflow import keras\n",
        "from tensorflow.keras import Model\n",
        "from keras import models\n",
        "from keras import layers\n",
        "from keras.models import Sequential\n",
        "from keras.layers import Dense, Conv2D, Flatten, MaxPool2D, Dropout, BatchNormalization, Activation\n",
        "from keras.callbacks import EarlyStopping\n",
        "from tensorflow.keras import optimizers\n",
        "from keras.optimizers import *\n",
        "\n",
        "# Load previous save model #\n",
        "from keras.models import load_model\n",
        "\n",
        "# Model evaluation #\n",
        "from sklearn.metrics import confusion_matrix\n",
        "from sklearn.metrics import ConfusionMatrixDisplay\n",
        "from sklearn.metrics import classification_report, accuracy_score, precision_score, recall_score, f1_score"
      ],
      "metadata": {
        "id": "dpM7DaxRTDAz"
      },
      "execution_count": 52,
      "outputs": []
    },
    {
      "cell_type": "code",
      "source": [
        "tf.__version__"
      ],
      "metadata": {
        "colab": {
          "base_uri": "https://localhost:8080/",
          "height": 35
        },
        "id": "4btojtJ-uIsV",
        "outputId": "07014df7-fa09-4084-90a0-1232fac965ee"
      },
      "execution_count": null,
      "outputs": [
        {
          "output_type": "execute_result",
          "data": {
            "text/plain": [
              "'2.12.0'"
            ],
            "application/vnd.google.colaboratory.intrinsic+json": {
              "type": "string"
            }
          },
          "metadata": {},
          "execution_count": 32
        }
      ]
    },
    {
      "cell_type": "code",
      "source": [
        "keras.__version__"
      ],
      "metadata": {
        "colab": {
          "base_uri": "https://localhost:8080/",
          "height": 35
        },
        "id": "XaPEenlzuLrq",
        "outputId": "b153ea5f-8b4f-4b85-9015-4b30723458ce"
      },
      "execution_count": null,
      "outputs": [
        {
          "output_type": "execute_result",
          "data": {
            "text/plain": [
              "'2.12.0'"
            ],
            "application/vnd.google.colaboratory.intrinsic+json": {
              "type": "string"
            }
          },
          "metadata": {},
          "execution_count": 33
        }
      ]
    },
    {
      "cell_type": "code",
      "source": [
        "# Sets all random seeds for the program of Python, NumPy, and TensorFlow.\n",
        "random.seed(42)\n",
        "np.random.seed(42)\n",
        "tf.random.set_seed(42)"
      ],
      "metadata": {
        "id": "uSr5PcyuuUJ9"
      },
      "execution_count": null,
      "outputs": []
    },
    {
      "cell_type": "markdown",
      "source": [
        "**Exploratory Data Analysis (EDA)**"
      ],
      "metadata": {
        "id": "_r90WEWCvBoS"
      }
    },
    {
      "cell_type": "code",
      "source": [
        "path = \"https://github.com/77chow/LAB/raw/main/Telco_customer_churn.csv\""
      ],
      "metadata": {
        "id": "pq3b73lwALb6"
      },
      "execution_count": 55,
      "outputs": []
    },
    {
      "cell_type": "code",
      "source": [
        "df = pd.read_csv(path)"
      ],
      "metadata": {
        "id": "H1u9LgH4Co-r"
      },
      "execution_count": 57,
      "outputs": []
    },
    {
      "cell_type": "code",
      "source": [],
      "metadata": {
        "id": "WC_8hoYq8snP"
      },
      "execution_count": null,
      "outputs": []
    },
    {
      "cell_type": "code",
      "source": [
        "x = pd.get_dummies(dataset.drop(['Churn', 'Customer ID'], axis=1))\n",
        "y = dataset['Churn'].apply(lambda x:1 if x=='Yes' else 0)"
      ],
      "metadata": {
        "id": "LpOAj9D7r17W"
      },
      "execution_count": null,
      "outputs": []
    }
  ]
}